{
 "cells": [
  {
   "cell_type": "markdown",
   "id": "25787400-36d9-4ee1-b963-85208e904a00",
   "metadata": {},
   "source": [
    "# Load dataset"
   ]
  },
  {
   "cell_type": "code",
   "execution_count": 5,
   "id": "5ca21404-364f-44e6-bc86-466df8e4a30a",
   "metadata": {},
   "outputs": [
    {
     "data": {
      "text/plain": [
       "Dataset({\n",
       "    features: ['id', 'title', 'context', 'question', 'answers'],\n",
       "    num_rows: 11873\n",
       "})"
      ]
     },
     "execution_count": 5,
     "metadata": {},
     "output_type": "execute_result"
    }
   ],
   "source": [
    "from datasets import load_dataset\n",
    "\n",
    "raw_datasets = load_dataset(\"squad_v2\")\n",
    "dataset = raw_datasets[\"validation\"]\n",
    "dataset"
   ]
  },
  {
   "cell_type": "code",
   "execution_count": 8,
   "id": "6a67db1a-4875-491e-ab91-a08536abe648",
   "metadata": {},
   "outputs": [],
   "source": [
    "from torch.utils.data import Dataset\n",
    "\n",
    "class CustomDataset(Dataset):\n",
    "    def __init__(self, dataset: Dataset, key1: str, key2: str):\n",
    "        self.dataset = dataset\n",
    "        self.key1 = key1\n",
    "        self.key2 = key2\n",
    "\n",
    "    def __len__(self):\n",
    "        return len(self.dataset)\n",
    "\n",
    "    def __getitem__(self, i):\n",
    "        return {\"question\": self.dataset[i][self.key1], \"context\": self.dataset[i][self.key2]}"
   ]
  },
  {
   "cell_type": "markdown",
   "id": "f0053092-e1b1-433d-b03a-e9a660a7252b",
   "metadata": {},
   "source": [
    "# Load model"
   ]
  },
  {
   "cell_type": "code",
   "execution_count": 6,
   "id": "eb783e57-04ab-4e89-99ed-6e3b4752ef75",
   "metadata": {},
   "outputs": [
    {
     "name": "stderr",
     "output_type": "stream",
     "text": [
      "Downloading (…)lve/main/config.json: 100%|█████| 571/571 [00:00<00:00, 78.3kB/s]\n",
      "Downloading model.safetensors: 100%|██████████| 496M/496M [00:00<00:00, 633MB/s]\n",
      "Downloading (…)okenizer_config.json: 100%|███| 79.0/79.0 [00:00<00:00, 8.36kB/s]\n",
      "Downloading (…)olve/main/vocab.json: 100%|████| 899k/899k [00:00<00:00, 931kB/s]\n",
      "Downloading (…)olve/main/merges.txt: 100%|████| 456k/456k [00:00<00:00, 634kB/s]\n",
      "Downloading (…)cial_tokens_map.json: 100%|██████| 772/772 [00:00<00:00, 380kB/s]\n"
     ]
    }
   ],
   "source": [
    "import torch\n",
    "from transformers import pipeline\n",
    "\n",
    "model = \"deepset/roberta-base-squad2\"\n",
    "pipe = pipeline(\"question-answering\", model=model, \n",
    "                framework=\"pt\", device=\"cuda\", torch_dtype=torch.float16, # torch.float16 or torch.float32\n",
    "                padding='max_length', # Will pad the sequences up to the model max length\n",
    "                truncation=True) # Will truncate the sequences that are longer than the specified max length"
   ]
  },
  {
   "cell_type": "markdown",
   "id": "a047bca0-bec6-4697-b68a-b9b4d0272d7e",
   "metadata": {},
   "source": [
    "# Inference"
   ]
  },
  {
   "cell_type": "code",
   "execution_count": 12,
   "id": "74b30ed0-9317-4bb0-979a-aaa2c05b58d0",
   "metadata": {},
   "outputs": [
    {
     "name": "stderr",
     "output_type": "stream",
     "text": [
      "100%|████████████████████████████████████| 11873/11873 [00:36<00:00, 321.40it/s]"
     ]
    },
    {
     "name": "stdout",
     "output_type": "stream",
     "text": [
      "Batch size: 8\n",
      "Total inference time: 36.9465s\n",
      "Total sample: 11873\n",
      "Result: 321 sample/s\n",
      "---------------------------------------------------------\n"
     ]
    },
    {
     "name": "stderr",
     "output_type": "stream",
     "text": [
      "\n"
     ]
    }
   ],
   "source": [
    "import time\n",
    "from tqdm import tqdm\n",
    "from transformers.pipelines.pt_utils import KeyDataset\n",
    "\n",
    "for batch_size in [8]:\n",
    "    start = time.time()\n",
    "    for output in tqdm(pipe(CustomDataset(dataset, \"question\", \"context\"), batch_size=batch_size), total=len(dataset)):\n",
    "        pass\n",
    "    end = time.time()\n",
    "    \n",
    "    inference_time = end - start\n",
    "    num_requests = len(dataset)\n",
    "    print(f\"Batch size: {batch_size}\")\n",
    "    print(f\"Total inference time: {round(inference_time, 4)}s\")\n",
    "    print(f\"Total sample: {num_requests}\")\n",
    "    print(f\"Result: {round(num_requests / inference_time)} sample/s\")\n",
    "    print('---------------------------------------------------------')"
   ]
  }
 ],
 "metadata": {
  "kernelspec": {
   "display_name": "Python 3 (ipykernel)",
   "language": "python",
   "name": "python3"
  },
  "language_info": {
   "codemirror_mode": {
    "name": "ipython",
    "version": 3
   },
   "file_extension": ".py",
   "mimetype": "text/x-python",
   "name": "python",
   "nbconvert_exporter": "python",
   "pygments_lexer": "ipython3",
   "version": "3.9.17"
  }
 },
 "nbformat": 4,
 "nbformat_minor": 5
}
