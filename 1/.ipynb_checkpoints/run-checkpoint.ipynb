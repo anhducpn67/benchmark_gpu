{
 "cells": [
  {
   "cell_type": "markdown",
   "id": "25787400-36d9-4ee1-b963-85208e904a00",
   "metadata": {},
   "source": [
    "# Load dataset"
   ]
  },
  {
   "cell_type": "code",
   "execution_count": 1,
   "id": "5ca21404-364f-44e6-bc86-466df8e4a30a",
   "metadata": {},
   "outputs": [
    {
     "data": {
      "text/html": [
       "<div>\n",
       "<style scoped>\n",
       "    .dataframe tbody tr th:only-of-type {\n",
       "        vertical-align: middle;\n",
       "    }\n",
       "\n",
       "    .dataframe tbody tr th {\n",
       "        vertical-align: top;\n",
       "    }\n",
       "\n",
       "    .dataframe thead th {\n",
       "        text-align: right;\n",
       "    }\n",
       "</style>\n",
       "<table border=\"1\" class=\"dataframe\">\n",
       "  <thead>\n",
       "    <tr style=\"text-align: right;\">\n",
       "      <th></th>\n",
       "      <th>content</th>\n",
       "      <th>label</th>\n",
       "      <th>start</th>\n",
       "    </tr>\n",
       "  </thead>\n",
       "  <tbody>\n",
       "    <tr>\n",
       "      <th>0</th>\n",
       "      <td>Áo bao đẹp ạ!</td>\n",
       "      <td>POS</td>\n",
       "      <td>5</td>\n",
       "    </tr>\n",
       "    <tr>\n",
       "      <th>1</th>\n",
       "      <td>Tuyệt vời</td>\n",
       "      <td>POS</td>\n",
       "      <td>5</td>\n",
       "    </tr>\n",
       "    <tr>\n",
       "      <th>2</th>\n",
       "      <td>2day ao khong giong trong</td>\n",
       "      <td>NEG</td>\n",
       "      <td>1</td>\n",
       "    </tr>\n",
       "    <tr>\n",
       "      <th>3</th>\n",
       "      <td>Mùi thơm,bôi lên da mềm da</td>\n",
       "      <td>POS</td>\n",
       "      <td>5</td>\n",
       "    </tr>\n",
       "    <tr>\n",
       "      <th>4</th>\n",
       "      <td>Vải đẹp, dày dặn</td>\n",
       "      <td>POS</td>\n",
       "      <td>5</td>\n",
       "    </tr>\n",
       "    <tr>\n",
       "      <th>...</th>\n",
       "      <td>...</td>\n",
       "      <td>...</td>\n",
       "      <td>...</td>\n",
       "    </tr>\n",
       "    <tr>\n",
       "      <th>31455</th>\n",
       "      <td>Không đáng tiền</td>\n",
       "      <td>NEG</td>\n",
       "      <td>1</td>\n",
       "    </tr>\n",
       "    <tr>\n",
       "      <th>31456</th>\n",
       "      <td>Quần rất đẹp</td>\n",
       "      <td>POS</td>\n",
       "      <td>5</td>\n",
       "    </tr>\n",
       "    <tr>\n",
       "      <th>31457</th>\n",
       "      <td>Hàng đẹp đúng giá tiền</td>\n",
       "      <td>POS</td>\n",
       "      <td>5</td>\n",
       "    </tr>\n",
       "    <tr>\n",
       "      <th>31458</th>\n",
       "      <td>Chất vải khá ổn</td>\n",
       "      <td>POS</td>\n",
       "      <td>4</td>\n",
       "    </tr>\n",
       "    <tr>\n",
       "      <th>31459</th>\n",
       "      <td>áo rất ok nhé , vải mịn , len cao cổ này phối ...</td>\n",
       "      <td>POS</td>\n",
       "      <td>5</td>\n",
       "    </tr>\n",
       "  </tbody>\n",
       "</table>\n",
       "<p>31436 rows × 3 columns</p>\n",
       "</div>"
      ],
      "text/plain": [
       "                                                 content label  start\n",
       "0                                          Áo bao đẹp ạ!   POS      5\n",
       "1                                              Tuyệt vời   POS      5\n",
       "2                              2day ao khong giong trong   NEG      1\n",
       "3                             Mùi thơm,bôi lên da mềm da   POS      5\n",
       "4                                       Vải đẹp, dày dặn   POS      5\n",
       "...                                                  ...   ...    ...\n",
       "31455                                    Không đáng tiền   NEG      1\n",
       "31456                                       Quần rất đẹp   POS      5\n",
       "31457                             Hàng đẹp đúng giá tiền   POS      5\n",
       "31458                                    Chất vải khá ổn   POS      4\n",
       "31459  áo rất ok nhé , vải mịn , len cao cổ này phối ...   POS      5\n",
       "\n",
       "[31436 rows x 3 columns]"
      ]
     },
     "execution_count": 1,
     "metadata": {},
     "output_type": "execute_result"
    }
   ],
   "source": [
    "import pandas as pd\n",
    "\n",
    "df = pd.read_csv(\"data.csv\", dtype={\"content\": str, \"label\": str})\n",
    "df = df.dropna()\n",
    "df"
   ]
  },
  {
   "cell_type": "code",
   "execution_count": 2,
   "id": "f73c1ee6-8b11-43c5-8429-6a7c50b69c16",
   "metadata": {},
   "outputs": [],
   "source": [
    "from torch.utils.data import Dataset\n",
    "\n",
    "class CustomDataset(Dataset):\n",
    "    def __init__(self, data):\n",
    "        self.data = data\n",
    "\n",
    "    def __len__(self):\n",
    "        return len(self.data)\n",
    "\n",
    "    def __getitem__(self, idx):\n",
    "        return self.data[idx]"
   ]
  },
  {
   "cell_type": "code",
   "execution_count": 3,
   "id": "3bda94ba-86ca-4b2f-a949-88599ddefbcd",
   "metadata": {},
   "outputs": [
    {
     "name": "stdout",
     "output_type": "stream",
     "text": [
      "31436\n"
     ]
    }
   ],
   "source": [
    "data = df['content'].to_list()\n",
    "dataset = CustomDataset(data)\n",
    "print(len(dataset))"
   ]
  },
  {
   "cell_type": "markdown",
   "id": "f0053092-e1b1-433d-b03a-e9a660a7252b",
   "metadata": {},
   "source": [
    "# Load model"
   ]
  },
  {
   "cell_type": "code",
   "execution_count": 4,
   "id": "eb783e57-04ab-4e89-99ed-6e3b4752ef75",
   "metadata": {},
   "outputs": [
    {
     "name": "stderr",
     "output_type": "stream",
     "text": [
      "/home/ducnta3/miniconda3/envs/nlp/lib/python3.9/site-packages/tqdm/auto.py:21: TqdmWarning: IProgress not found. Please update jupyter and ipywidgets. See https://ipywidgets.readthedocs.io/en/stable/user_install.html\n",
      "  from .autonotebook import tqdm as notebook_tqdm\n"
     ]
    }
   ],
   "source": [
    "import torch\n",
    "from transformers import pipeline\n",
    "\n",
    "model = \"wonrax/phobert-base-vietnamese-sentiment\"\n",
    "pipe = pipeline(\"text-classification\", model=model, \n",
    "                framework=\"pt\", device=\"cuda\", torch_dtype=torch.float16, # torch.float16 or torch.float32\n",
    "                padding='max_length', # Will pad the sequences up to the model max length\n",
    "                truncation=True) # Will truncate the sequences that are longer than the specified max length"
   ]
  },
  {
   "cell_type": "markdown",
   "id": "a047bca0-bec6-4697-b68a-b9b4d0272d7e",
   "metadata": {},
   "source": [
    "# Inference"
   ]
  },
  {
   "cell_type": "code",
   "execution_count": 9,
   "id": "74b30ed0-9317-4bb0-979a-aaa2c05b58d0",
   "metadata": {},
   "outputs": [
    {
     "name": "stderr",
     "output_type": "stream",
     "text": [
      "100%|███████████████████████████████████| 31436/31436 [00:29<00:00, 1048.22it/s]"
     ]
    },
    {
     "name": "stdout",
     "output_type": "stream",
     "text": [
      "Batch size: 8\n",
      "Total inference time: 29.9955s\n",
      "Total sample: 31436\n",
      "Result: 1048 sample/s\n",
      "---------------------------------------------------------\n"
     ]
    },
    {
     "name": "stderr",
     "output_type": "stream",
     "text": [
      "\n"
     ]
    }
   ],
   "source": [
    "import time\n",
    "from tqdm import tqdm\n",
    "\n",
    "for batch_size in [8]:\n",
    "    start = time.time()\n",
    "    for output in tqdm(pipe(dataset, batch_size=batch_size), total=len(dataset)):\n",
    "        pass\n",
    "    end = time.time()\n",
    "    \n",
    "    inference_time = end - start\n",
    "    num_requests = len(dataset)\n",
    "    print(f\"Batch size: {batch_size}\")\n",
    "    print(f\"Total inference time: {round(inference_time, 4)}s\")\n",
    "    print(f\"Total sample: {num_requests}\")\n",
    "    print(f\"Result: {round(num_requests / inference_time)} sample/s\")\n",
    "    print('---------------------------------------------------------')"
   ]
  }
 ],
 "metadata": {
  "kernelspec": {
   "display_name": "Python 3 (ipykernel)",
   "language": "python",
   "name": "python3"
  },
  "language_info": {
   "codemirror_mode": {
    "name": "ipython",
    "version": 3
   },
   "file_extension": ".py",
   "mimetype": "text/x-python",
   "name": "python",
   "nbconvert_exporter": "python",
   "pygments_lexer": "ipython3",
   "version": "3.9.17"
  }
 },
 "nbformat": 4,
 "nbformat_minor": 5
}
