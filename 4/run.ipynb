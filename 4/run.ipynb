{
 "cells": [
  {
   "cell_type": "markdown",
   "id": "25787400-36d9-4ee1-b963-85208e904a00",
   "metadata": {},
   "source": [
    "# Load dataset"
   ]
  },
  {
   "cell_type": "code",
   "execution_count": 1,
   "id": "5ca21404-364f-44e6-bc86-466df8e4a30a",
   "metadata": {},
   "outputs": [
    {
     "name": "stderr",
     "output_type": "stream",
     "text": [
      "/home/ducnta3/miniconda3/envs/nlp/lib/python3.9/site-packages/tqdm/auto.py:21: TqdmWarning: IProgress not found. Please update jupyter and ipywidgets. See https://ipywidgets.readthedocs.io/en/stable/user_install.html\n",
      "  from .autonotebook import tqdm as notebook_tqdm\n"
     ]
    },
    {
     "name": "stdout",
     "output_type": "stream",
     "text": [
      "2538\n"
     ]
    }
   ],
   "source": [
    "from datasets import load_dataset\n",
    "\n",
    "raw_datasets = load_dataset(\"mt_eng_vietnamese\", 'iwslt2015-vi-en')\n",
    "dataset = raw_datasets[\"test\"]\n",
    "\n",
    "sents = []\n",
    "for item in dataset['translation']:\n",
    "    en_sent = \"en: \" + item['en']\n",
    "    vi_sent = \"vi: \" + item['vi']\n",
    "    sents.append(en_sent)\n",
    "    sents.append(vi_sent)\n",
    "\n",
    "print(len(sents))"
   ]
  },
  {
   "cell_type": "code",
   "execution_count": 2,
   "id": "6a67db1a-4875-491e-ab91-a08536abe648",
   "metadata": {},
   "outputs": [],
   "source": [
    "from torch.utils.data import Dataset, DataLoader\n",
    "\n",
    "class CustomDataset(Dataset):\n",
    "    def __init__(self, data):\n",
    "        self.data = data\n",
    "\n",
    "    def __len__(self):\n",
    "        return len(self.data)\n",
    "\n",
    "    def __getitem__(self, i):\n",
    "        return self.data[i]"
   ]
  },
  {
   "cell_type": "code",
   "execution_count": 3,
   "id": "be7e5f4d-5491-48a0-b376-19268e44b780",
   "metadata": {},
   "outputs": [],
   "source": [
    "dataset = CustomDataset(sents)"
   ]
  },
  {
   "cell_type": "markdown",
   "id": "f0053092-e1b1-433d-b03a-e9a660a7252b",
   "metadata": {},
   "source": [
    "# Load model"
   ]
  },
  {
   "cell_type": "code",
   "execution_count": 4,
   "id": "eb783e57-04ab-4e89-99ed-6e3b4752ef75",
   "metadata": {},
   "outputs": [],
   "source": [
    "import torch\n",
    "from transformers import AutoTokenizer, AutoModelForSeq2SeqLM\n",
    "\n",
    "model_name = \"VietAI/envit5-translation\"\n",
    "model = AutoModelForSeq2SeqLM.from_pretrained(model_name, device_map=\"cuda\", torch_dtype=torch.float16) # torch.float16 or torch.float32\n",
    "tokenizer = AutoTokenizer.from_pretrained(model_name, device_map=\"cuda\", torch_dtype=torch.float16)  # torch.float16 or torch.float32"
   ]
  },
  {
   "cell_type": "markdown",
   "id": "a047bca0-bec6-4697-b68a-b9b4d0272d7e",
   "metadata": {},
   "source": [
    "# Inference"
   ]
  },
  {
   "cell_type": "code",
   "execution_count": null,
   "id": "74b30ed0-9317-4bb0-979a-aaa2c05b58d0",
   "metadata": {},
   "outputs": [],
   "source": [
    "import time\n",
    "from tqdm import tqdm\n",
    "from transformers.pipelines.pt_utils import KeyDataset\n",
    "\n",
    "for batch_size in [8]:\n",
    "    dataloader = DataLoader(dataset, batch_size=batch_size, shuffle=True)\n",
    "    start = time.time()\n",
    "    for inputs in tqdm(dataloader):\n",
    "        outputs = model.generate(tokenizer(inputs, return_tensors=\"pt\", padding=True).input_ids.to('cuda'), max_length=512)\n",
    "        decode_outputs = tokenizer.batch_decode(outputs, skip_special_tokens=True)\n",
    "    end = time.time()\n",
    "    \n",
    "    inference_time = end - start\n",
    "    num_requests = len(dataset)\n",
    "    print(f\"Batch size: {batch_size}\")\n",
    "    print(f\"Total inference time: {round(inference_time, 4)}s\")\n",
    "    print(f\"Total sample: {num_requests}\")\n",
    "    print(f\"Result: {round(num_requests / inference_time)} sample/s\")\n",
    "    print('---------------------------------------------------------')"
   ]
  }
 ],
 "metadata": {
  "kernelspec": {
   "display_name": "Python 3 (ipykernel)",
   "language": "python",
   "name": "python3"
  },
  "language_info": {
   "codemirror_mode": {
    "name": "ipython",
    "version": 3
   },
   "file_extension": ".py",
   "mimetype": "text/x-python",
   "name": "python",
   "nbconvert_exporter": "python",
   "pygments_lexer": "ipython3",
   "version": "3.9.17"
  }
 },
 "nbformat": 4,
 "nbformat_minor": 5
}
