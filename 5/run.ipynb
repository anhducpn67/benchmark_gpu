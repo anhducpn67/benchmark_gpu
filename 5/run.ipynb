{
 "cells": [
  {
   "cell_type": "markdown",
   "id": "25787400-36d9-4ee1-b963-85208e904a00",
   "metadata": {},
   "source": [
    "# Load dataset"
   ]
  },
  {
   "cell_type": "code",
   "execution_count": 1,
   "id": "5ca21404-364f-44e6-bc86-466df8e4a30a",
   "metadata": {},
   "outputs": [
    {
     "name": "stderr",
     "output_type": "stream",
     "text": [
      "/home/ducnta3/miniconda3/envs/nlp/lib/python3.9/site-packages/tqdm/auto.py:21: TqdmWarning: IProgress not found. Please update jupyter and ipywidgets. See https://ipywidgets.readthedocs.io/en/stable/user_install.html\n",
      "  from .autonotebook import tqdm as notebook_tqdm\n"
     ]
    },
    {
     "data": {
      "text/plain": [
       "Dataset({\n",
       "    features: ['id', 'tokens', 'pos_tags', 'chunk_tags', 'ner_tags'],\n",
       "    num_rows: 3453\n",
       "})"
      ]
     },
     "execution_count": 1,
     "metadata": {},
     "output_type": "execute_result"
    }
   ],
   "source": [
    "from datasets import load_dataset\n",
    "\n",
    "raw_datasets = load_dataset(\"conll2003\")\n",
    "dataset = raw_datasets[\"test\"]\n",
    "dataset"
   ]
  },
  {
   "cell_type": "code",
   "execution_count": 2,
   "id": "6a67db1a-4875-491e-ab91-a08536abe648",
   "metadata": {},
   "outputs": [],
   "source": [
    "from torch.utils.data import Dataset\n",
    "\n",
    "class CustomDataset(Dataset):\n",
    "    def __init__(self, dataset: Dataset, key1: str):\n",
    "        self.dataset = dataset\n",
    "        self.key1 = key1\n",
    "\n",
    "    def __len__(self):\n",
    "        return len(self.dataset)\n",
    "\n",
    "    def __getitem__(self, i):\n",
    "        text = \" \".join(self.dataset[i][self.key1])\n",
    "        return text"
   ]
  },
  {
   "cell_type": "markdown",
   "id": "f0053092-e1b1-433d-b03a-e9a660a7252b",
   "metadata": {},
   "source": [
    "# Load model"
   ]
  },
  {
   "cell_type": "code",
   "execution_count": 3,
   "id": "eb783e57-04ab-4e89-99ed-6e3b4752ef75",
   "metadata": {},
   "outputs": [
    {
     "name": "stderr",
     "output_type": "stream",
     "text": [
      "Some weights of the model checkpoint at dslim/bert-base-NER-uncased were not used when initializing BertForTokenClassification: ['bert.pooler.dense.weight', 'bert.pooler.dense.bias']\n",
      "- This IS expected if you are initializing BertForTokenClassification from the checkpoint of a model trained on another task or with another architecture (e.g. initializing a BertForSequenceClassification model from a BertForPreTraining model).\n",
      "- This IS NOT expected if you are initializing BertForTokenClassification from the checkpoint of a model that you expect to be exactly identical (initializing a BertForSequenceClassification model from a BertForSequenceClassification model).\n"
     ]
    }
   ],
   "source": [
    "import torch\n",
    "from transformers import pipeline\n",
    "\n",
    "model = \"dslim/bert-base-NER-uncased\"\n",
    "pipe = pipeline(\"token-classification\", model=model, \n",
    "                framework=\"pt\", device=\"cuda\", torch_dtype=torch.float16) # torch.float16 or torch.float32"
   ]
  },
  {
   "cell_type": "markdown",
   "id": "a047bca0-bec6-4697-b68a-b9b4d0272d7e",
   "metadata": {},
   "source": [
    "# Inference"
   ]
  },
  {
   "cell_type": "code",
   "execution_count": 4,
   "id": "74b30ed0-9317-4bb0-979a-aaa2c05b58d0",
   "metadata": {},
   "outputs": [
    {
     "name": "stderr",
     "output_type": "stream",
     "text": [
      "100%|███████████████████████████████████████████████| 3453/3453 [00:05<00:00, 595.19it/s]"
     ]
    },
    {
     "name": "stdout",
     "output_type": "stream",
     "text": [
      "Batch size: 8\n",
      "Total inference time: 5.8117s\n",
      "Total sample: 3453\n",
      "Result: 594 sample/s\n",
      "---------------------------------------------------------\n"
     ]
    },
    {
     "name": "stderr",
     "output_type": "stream",
     "text": [
      "\n"
     ]
    }
   ],
   "source": [
    "import time\n",
    "from tqdm import tqdm\n",
    "from transformers.pipelines.pt_utils import KeyDataset\n",
    "\n",
    "for batch_size in [8]:\n",
    "    start = time.time()\n",
    "    for output in tqdm(pipe(CustomDataset(dataset, \"tokens\"), batch_size=batch_size), total=len(dataset)):\n",
    "        pass\n",
    "    end = time.time()\n",
    "    \n",
    "    inference_time = end - start\n",
    "    num_requests = len(dataset)\n",
    "    print(f\"Batch size: {batch_size}\")\n",
    "    print(f\"Total inference time: {round(inference_time, 4)}s\")\n",
    "    print(f\"Total sample: {num_requests}\")\n",
    "    print(f\"Result: {round(num_requests / inference_time)} sample/s\")\n",
    "    print('---------------------------------------------------------')"
   ]
  }
 ],
 "metadata": {
  "kernelspec": {
   "display_name": "Python 3 (ipykernel)",
   "language": "python",
   "name": "python3"
  },
  "language_info": {
   "codemirror_mode": {
    "name": "ipython",
    "version": 3
   },
   "file_extension": ".py",
   "mimetype": "text/x-python",
   "name": "python",
   "nbconvert_exporter": "python",
   "pygments_lexer": "ipython3",
   "version": "3.9.17"
  }
 },
 "nbformat": 4,
 "nbformat_minor": 5
}
