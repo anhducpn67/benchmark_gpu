{
 "cells": [
  {
   "cell_type": "markdown",
   "id": "318d817f-12ff-40ee-be82-65db88dc6f8a",
   "metadata": {},
   "source": [
    "# Load questions"
   ]
  },
  {
   "cell_type": "code",
   "execution_count": 1,
   "id": "293756e3-6394-415f-ac3c-9bf3f723e921",
   "metadata": {},
   "outputs": [
    {
     "data": {
      "text/plain": [
       "['Can you create a short story based on a specific theme?\\n',\n",
       " 'Can you help me design a workout plan for weight loss?\\n',\n",
       " 'What are some creative date ideas?\\n',\n",
       " 'Can you suggest a list of books to read across different genres?\\n',\n",
       " 'How can I reduce my carbon footprint?\\n']"
      ]
     },
     "execution_count": 1,
     "metadata": {},
     "output_type": "execute_result"
    }
   ],
   "source": [
    "f = open(\"questions.txt\", \"r\")\n",
    "questions = f.readlines()\n",
    "questions[:5]"
   ]
  },
  {
   "cell_type": "code",
   "execution_count": null,
   "id": "8a9514e4-d672-4537-a5c0-ee43c95345f5",
   "metadata": {},
   "outputs": [],
   "source": [
    "from transformers import AutoTokenizer\n",
    "import transformers\n",
    "import torch\n",
    "import time\n",
    "from tqdm import tqdm\n",
    "\n",
    "model = \"meta-llama/Llama-2-7b-chat-hf\"\n",
    "\n",
    "tokenizer = AutoTokenizer.from_pretrained(model)\n",
    "pipeline = transformers.pipeline(\n",
    "    \"text-generation\",\n",
    "    model=model,\n",
    "    torch_dtype=torch.float16,\n",
    "    device_map=\"cuda\",\n",
    ")\n",
    "\n",
    "start = time.time()\n",
    "for question in tqdm(questions):\n",
    "    sequences = pipeline(\n",
    "        question,\n",
    "        do_sample=True,\n",
    "        top_k=10,\n",
    "        num_return_sequences=1,\n",
    "        eos_token_id=tokenizer.eos_token_id,\n",
    "        max_length=200,\n",
    "    )\n",
    "end = time.time()\n",
    "\n",
    "inference_time = end - start\n",
    "num_requests = len(questions)\n",
    "\n",
    "print(f\"Total inference time: {round(inference_time, 4)}s\")\n",
    "print(f\"Total sample: {num_requests}\")\n",
    "print(f\"Result: {round(num_requests / inference_time)} sample/s\")\n",
    "print('---------------------------------------------------------')"
   ]
  }
 ],
 "metadata": {
  "kernelspec": {
   "display_name": "Python 3 (ipykernel)",
   "language": "python",
   "name": "python3"
  },
  "language_info": {
   "codemirror_mode": {
    "name": "ipython",
    "version": 3
   },
   "file_extension": ".py",
   "mimetype": "text/x-python",
   "name": "python",
   "nbconvert_exporter": "python",
   "pygments_lexer": "ipython3",
   "version": "3.9.17"
  }
 },
 "nbformat": 4,
 "nbformat_minor": 5
}
